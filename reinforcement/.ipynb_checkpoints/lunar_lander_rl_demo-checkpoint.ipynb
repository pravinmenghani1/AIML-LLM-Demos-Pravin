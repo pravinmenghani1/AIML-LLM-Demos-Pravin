{
 "cells": [
  {
   "cell_type": "markdown",
   "metadata": {},
   "source": [
    "# Reinforcement Learning Demo: Lunar Lander\n",
    "\n",
    "## 🚀 Welcome to Reinforcement Learning!\n",
    "\n",
    "In this interactive demo, we'll teach an AI agent to land a lunar module safely on the moon using **Reinforcement Learning (RL)**.\n",
    "\n",
    "### What is Reinforcement Learning?\n",
    "- An agent learns through **trial and error**\n",
    "- Gets **rewards** for good actions, **penalties** for bad ones\n",
    "- Gradually improves its **policy** (decision-making strategy)\n",
    "\n",
    "### The Lunar Lander Problem\n",
    "- **Goal**: Land the spacecraft safely between the flags\n",
    "- **Actions**: Do nothing, fire left engine, fire main engine, fire right engine\n",
    "- **Rewards**: +100 for landing, -100 for crashing, fuel penalties\n",
    "\n",
    "Let's dive in! 🌙"
   ]
  },
  {
   "cell_type": "markdown",
   "metadata": {},
   "source": [
    "## Step 1: Setup and Environment"
   ]
  },
  {
   "cell_type": "code",
   "execution_count": null,
   "metadata": {},
   "outputs": [],
   "source": [
    "# Install required packages\n",
    "!pip install gymnasium[box2d] numpy matplotlib seaborn pandas tqdm\n",
    "\n",
    "import gymnasium as gym\n",
    "import numpy as np\n",
    "import matplotlib.pyplot as plt\n",
    "import seaborn as sns\n",
    "from collections import defaultdict, deque\n",
    "import random\n",
    "from tqdm import tqdm\n",
    "import pandas as pd\n",
    "\n",
    "# Set style for better plots\n",
    "plt.style.use('seaborn-v0_8')\n",
    "sns.set_palette(\"husl\")\n",
    "\n",
    "print(\"✅ All packages installed successfully!\")"
   ]
  },
  {
   "cell_type": "markdown",
   "metadata": {},
   "source": [
    "## Step 2: Understanding the Environment"
   ]
  },
  {
   "cell_type": "code",
   "execution_count": null,
   "metadata": {},
   "outputs": [],
   "source": [
    "# Create the Lunar Lander environment\n",
    "env = gym.make('LunarLander-v2', render_mode='rgb_array')\n",
    "\n",
    "print(\"🌙 Lunar Lander Environment Created!\")\n",
    "print(f\"📊 Observation Space: {env.observation_space}\")\n",
    "print(f\"🎮 Action Space: {env.action_space}\")\n",
    "print(f\"🎯 Number of Actions: {env.action_space.n}\")\n",
    "\n",
    "# Action meanings\n",
    "actions = {\n",
    "    0: \"Do nothing\",\n",
    "    1: \"Fire left orientation engine\", \n",
    "    2: \"Fire main engine\",\n",
    "    3: \"Fire right orientation engine\"\n",
    "}\n",
    "\n",
    "print(\"\\n🚀 Available Actions:\")\n",
    "for action, description in actions.items():\n",
    "    print(f\"  {action}: {description}\")"
   ]
  },
  {
   "cell_type": "markdown",
   "metadata": {},
   "source": [
    "## Step 3: Random Agent (Before Learning)"
   ]
  },
  {
   "cell_type": "code",
   "execution_count": null,
   "metadata": {},
   "outputs": [],
   "source": [
    "def test_random_agent(episodes=5):\n",
    "    \"\"\"Test how a random agent performs\"\"\"\n",
    "    scores = []\n",
    "    \n",
    "    for episode in range(episodes):\n",
    "        state, _ = env.reset()\n",
    "        total_reward = 0\n",
    "        steps = 0\n",
    "        \n",
    "        while True:\n",
    "            # Random action\n",
    "            action = env.action_space.sample()\n",
    "            state, reward, terminated, truncated, _ = env.step(action)\n",
    "            total_reward += reward\n",
    "            steps += 1\n",
    "            \n",
    "            if terminated or truncated:\n",
    "                break\n",
    "        \n",
    "        scores.append(total_reward)\n",
    "        print(f\"Episode {episode + 1}: Score = {total_reward:.2f}, Steps = {steps}\")\n",
    "    \n",
    "    avg_score = np.mean(scores)\n",
    "    print(f\"\\n🎲 Random Agent Average Score: {avg_score:.2f}\")\n",
    "    return scores\n",
    "\n",
    "print(\"Testing Random Agent (No Learning):\")\n",
    "random_scores = test_random_agent()"
   ]
  }
 ],
 "metadata": {
  "kernelspec": {
   "display_name": "Python 3",
   "language": "python",
   "name": "python3"
  },
  "language_info": {
   "codemirror_mode": {
    "name": "ipython",
    "version": 3
   },
   "file_extension": ".py",
   "mimetype": "text/x-python",
   "name": "python",
   "nbconvert_exporter": "python",
   "pygments_lexer": "ipython3",
   "version": "3.8.5"
  }
 },
 "nbformat": 4,
 "nbformat_minor": 4
}
